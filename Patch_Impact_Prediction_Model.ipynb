{
 "cells": [
  {
   "cell_type": "markdown",
   "id": "9fd7ef49-7b73-4173-b9be-ca1044ae2b60",
   "metadata": {},
   "source": [
    "## Patch Impact Prediction Model\n",
    "\n",
    "We are going to predict if the patch for servers are going to be risky(1) or safe(0). We have taken some randomly generated data using python. We will test out different models for binary classification and evaluate on different parameters."
   ]
  },
  {
   "cell_type": "markdown",
   "id": "442223ee-0ac5-4e5f-afc2-b93f626dad84",
   "metadata": {},
   "source": [
    "### Dataset Summary\n",
    "\n",
    "| Item                | Description                                                         |\n",
    "| ------------------- | ------------------------------------------------------------------- |\n",
    "| **File Name**       | `patch_data_revised.csv`                                            |\n",
    "| **Total Records**   | 2000                                                                |\n",
    "| **Total Features**  | 13 (including target)                                               |\n",
    "| **Prediction Goal** | Predict the `Result` (Safe or Risky) based on pre-patch conditions  |\n",
    "| **Data Type**       | Mixed — categorical, numerical, and boolean (encoded as Yes/No)     |\n",
    "| **Leakage Status**  | No post-patch leakage (target derived purely from pre-patch data) |\n"
   ]
  },
  {
   "cell_type": "markdown",
   "id": "ab995265-6899-4a91-b5ed-fac985e4058e",
   "metadata": {},
   "source": [
    "### Feature Desciption"
   ]
  },
  {
   "cell_type": "markdown",
   "id": "daf72124-2aa2-4daa-8054-8743028e5fb9",
   "metadata": {},
   "source": [
    "| Feature Name            | Type                     | Example                                   | Description                                                                                                                                                  |\n",
    "| ----------------------- | ------------------------ | ----------------------------------------- | ------------------------------------------------------------------------------------------------------------------------------------------------------------ |\n",
    "| **Patch_ID**            | *String / ID*            | `P1024`                                   | Unique identifier for each patch record. Used only for reference — should be dropped during modeling.                                                        |\n",
    "| **OS_Type**             | *Categorical*            | `RHEL`, `Windows`, `Ubuntu`               | Operating system where the patch was applied. Different OS types have varying patch stability characteristics.                                               |\n",
    "| **Patch_Type**          | *Categorical*            | `Security`, `Bugfix`, `Feature`, `Kernel` | Type of patch. Kernel and Feature patches typically have higher risk compared to Security or Bugfix updates.                                                 |\n",
    "| **Patch_Severity**      | *Categorical*            | `Low`, `Medium`, `High`, `Critical`       | Describes the severity or importance of the patch, often linked to the scope of change or potential impact.                                                  |\n",
    "| **Systems_Affected**    | *Numeric (int)*          | `72`                                      | Number of systems affected by the patch rollout. Higher values may imply greater operational risk.                                                           |\n",
    "| **Server_Usage**        | *Categorical*            | `Low`, `Medium`, `High`                   | Indicates typical workload or resource utilization of the server. High-usage servers are more sensitive to downtime.                                         |\n",
    "| **Prev_Incidents**      | *Numeric (int)*          | `2`                                       | Number of past patching incidents or failures for this system. Strong predictor of future patch risk.                                                        |\n",
    "| **Patch_Size_MB**       | *Numeric (int)*          | `340`                                     | Size of the patch in megabytes. Larger patches usually involve more system-level changes, hence higher risk.                                                 |\n",
    "| **Applied_During_Peak** | *Categorical (Yes/No)*   | `Yes`                                     | Whether the patch was applied during business peak hours. Performing changes during peak hours increases impact potential.                                   |\n",
    "| **Pre_Health_Score**    | *Numeric (float, 0–100)* | `83.4`                                    | Overall system health before patching, calculated from service, CPU, and disk metrics. Lower scores imply less stability.                                    |\n",
    "| **Post_Health_Score**   | *Numeric (float, 0–100)* | `78.9`                                    | System health after patching — **used for analysis only**, not for prediction (post-patch metric).                                                           |\n",
    "| **Downtime_Mins**       | *Numeric (float)*        | `12.6`                                    | Minutes of downtime observed after patching — **used for analysis only**, not for prediction.                                                                |\n",
    "| **Result**              | *Categorical (Target)*   | `Safe`, `Risky`                           | Target label determined from pre-patch risk score (top 30% riskiest patches labeled as *Risky*, with 15% random noise to mimic real-world unpredictability). |\n"
   ]
  },
  {
   "cell_type": "markdown",
   "id": "4a825357-268c-4832-a3c2-d229f690f21a",
   "metadata": {},
   "source": [
    "### Columns to drop for Model Training\n",
    "| Column              | Reason                                        |\n",
    "| ------------------- | --------------------------------------------- |\n",
    "| `Patch_ID`          | Identifier, not predictive.                   |\n",
    "| `Post_Health_Score` | Post-patch data (not available before patch). |\n",
    "| `Downtime_Mins`     | Post-patch data (not available before patch). |\n"
   ]
  },
  {
   "cell_type": "markdown",
   "id": "5c5e35c0-99cf-43dc-8740-9444536c9567",
   "metadata": {},
   "source": [
    "## Import the required libraries"
   ]
  },
  {
   "cell_type": "code",
   "execution_count": 3,
   "id": "d1ed57d6-c203-4415-a019-b16fe9150fdc",
   "metadata": {},
   "outputs": [],
   "source": [
    "import pandas as pd\n",
    "import numpy as np\n",
    "import matplotlib.pyplot as plt\n",
    "import seaborn as sns\n",
    "from sklearn.model_selection import train_test_split, GridSearchCV, cross_val_score, StratifiedKFold\n",
    "from sklearn.preprocessing import StandardScaler, OneHotEncoder\n",
    "from sklearn.decomposition import PCA\n",
    "from sklearn.neighbors import KNeighborsClassifier\n",
    "from sklearn.pipeline import Pipeline\n",
    "from sklearn.compose import ColumnTransformer\n",
    "from sklearn.impute import SimpleImputer\n",
    "from sklearn.ensemble import RandomForestClassifier\n",
    "from sklearn.linear_model import LogisticRegression\n",
    "from sklearn.metrics import classification_report, confusion_matrix, ConfusionMatrixDisplay"
   ]
  },
  {
   "cell_type": "markdown",
   "id": "3e04b51f-c948-436e-939e-2edc1c0e5244",
   "metadata": {},
   "source": [
    "## Feature selection"
   ]
  },
  {
   "cell_type": "code",
   "execution_count": 4,
   "id": "3d471054-6812-407e-b306-ebedc0a5bd7a",
   "metadata": {},
   "outputs": [
    {
     "data": {
      "text/html": [
       "<div>\n",
       "<style scoped>\n",
       "    .dataframe tbody tr th:only-of-type {\n",
       "        vertical-align: middle;\n",
       "    }\n",
       "\n",
       "    .dataframe tbody tr th {\n",
       "        vertical-align: top;\n",
       "    }\n",
       "\n",
       "    .dataframe thead th {\n",
       "        text-align: right;\n",
       "    }\n",
       "</style>\n",
       "<table border=\"1\" class=\"dataframe\">\n",
       "  <thead>\n",
       "    <tr style=\"text-align: right;\">\n",
       "      <th></th>\n",
       "      <th>Patch_ID</th>\n",
       "      <th>OS_Type</th>\n",
       "      <th>Patch_Type</th>\n",
       "      <th>Patch_Severity</th>\n",
       "      <th>Systems_Affected</th>\n",
       "      <th>Server_Usage</th>\n",
       "      <th>Prev_Incidents</th>\n",
       "      <th>Patch_Size_MB</th>\n",
       "      <th>Applied_During_Peak</th>\n",
       "      <th>Pre_Health_Score</th>\n",
       "      <th>Post_Health_Score</th>\n",
       "      <th>Downtime_Mins</th>\n",
       "      <th>Result</th>\n",
       "    </tr>\n",
       "  </thead>\n",
       "  <tbody>\n",
       "    <tr>\n",
       "      <th>0</th>\n",
       "      <td>P1000</td>\n",
       "      <td>RHEL</td>\n",
       "      <td>Security</td>\n",
       "      <td>Medium</td>\n",
       "      <td>5</td>\n",
       "      <td>Low</td>\n",
       "      <td>0</td>\n",
       "      <td>106</td>\n",
       "      <td>No</td>\n",
       "      <td>77.2</td>\n",
       "      <td>71.7</td>\n",
       "      <td>3.0</td>\n",
       "      <td>Safe</td>\n",
       "    </tr>\n",
       "    <tr>\n",
       "      <th>1</th>\n",
       "      <td>P1001</td>\n",
       "      <td>Ubuntu</td>\n",
       "      <td>Security</td>\n",
       "      <td>High</td>\n",
       "      <td>55</td>\n",
       "      <td>Medium</td>\n",
       "      <td>2</td>\n",
       "      <td>91</td>\n",
       "      <td>No</td>\n",
       "      <td>86.2</td>\n",
       "      <td>80.1</td>\n",
       "      <td>8.8</td>\n",
       "      <td>Safe</td>\n",
       "    </tr>\n",
       "    <tr>\n",
       "      <th>2</th>\n",
       "      <td>P1002</td>\n",
       "      <td>Windows</td>\n",
       "      <td>Kernel</td>\n",
       "      <td>High</td>\n",
       "      <td>9</td>\n",
       "      <td>High</td>\n",
       "      <td>0</td>\n",
       "      <td>403</td>\n",
       "      <td>No</td>\n",
       "      <td>88.7</td>\n",
       "      <td>80.6</td>\n",
       "      <td>15.5</td>\n",
       "      <td>Risky</td>\n",
       "    </tr>\n",
       "    <tr>\n",
       "      <th>3</th>\n",
       "      <td>P1003</td>\n",
       "      <td>Windows</td>\n",
       "      <td>Security</td>\n",
       "      <td>Low</td>\n",
       "      <td>17</td>\n",
       "      <td>Low</td>\n",
       "      <td>0</td>\n",
       "      <td>248</td>\n",
       "      <td>No</td>\n",
       "      <td>100.0</td>\n",
       "      <td>97.5</td>\n",
       "      <td>2.2</td>\n",
       "      <td>Safe</td>\n",
       "    </tr>\n",
       "    <tr>\n",
       "      <th>4</th>\n",
       "      <td>P1004</td>\n",
       "      <td>RHEL</td>\n",
       "      <td>Security</td>\n",
       "      <td>Low</td>\n",
       "      <td>23</td>\n",
       "      <td>Medium</td>\n",
       "      <td>0</td>\n",
       "      <td>80</td>\n",
       "      <td>No</td>\n",
       "      <td>86.4</td>\n",
       "      <td>83.5</td>\n",
       "      <td>4.9</td>\n",
       "      <td>Safe</td>\n",
       "    </tr>\n",
       "  </tbody>\n",
       "</table>\n",
       "</div>"
      ],
      "text/plain": [
       "  Patch_ID  OS_Type Patch_Type Patch_Severity  Systems_Affected Server_Usage  \\\n",
       "0    P1000     RHEL   Security         Medium                 5          Low   \n",
       "1    P1001   Ubuntu   Security           High                55       Medium   \n",
       "2    P1002  Windows     Kernel           High                 9         High   \n",
       "3    P1003  Windows   Security            Low                17          Low   \n",
       "4    P1004     RHEL   Security            Low                23       Medium   \n",
       "\n",
       "   Prev_Incidents  Patch_Size_MB Applied_During_Peak  Pre_Health_Score  \\\n",
       "0               0            106                  No              77.2   \n",
       "1               2             91                  No              86.2   \n",
       "2               0            403                  No              88.7   \n",
       "3               0            248                  No             100.0   \n",
       "4               0             80                  No              86.4   \n",
       "\n",
       "   Post_Health_Score  Downtime_Mins Result  \n",
       "0               71.7            3.0   Safe  \n",
       "1               80.1            8.8   Safe  \n",
       "2               80.6           15.5  Risky  \n",
       "3               97.5            2.2   Safe  \n",
       "4               83.5            4.9   Safe  "
      ]
     },
     "execution_count": 4,
     "metadata": {},
     "output_type": "execute_result"
    }
   ],
   "source": [
    "#Load dataset\n",
    "table = pd.read_csv(\"patch_data_revised.csv\")\n",
    "table.head(5)"
   ]
  },
  {
   "cell_type": "code",
   "execution_count": 5,
   "id": "f1b2b75f-424d-44fe-a23e-aa838ad70561",
   "metadata": {},
   "outputs": [
    {
     "data": {
      "text/plain": [
       "Patch_ID               2000\n",
       "OS_Type                2000\n",
       "Patch_Type             2000\n",
       "Patch_Severity         2000\n",
       "Systems_Affected       2000\n",
       "Server_Usage           2000\n",
       "Prev_Incidents         2000\n",
       "Patch_Size_MB          2000\n",
       "Applied_During_Peak    2000\n",
       "Pre_Health_Score       2000\n",
       "Post_Health_Score      2000\n",
       "Downtime_Mins          2000\n",
       "Result                 2000\n",
       "dtype: int64"
      ]
     },
     "execution_count": 5,
     "metadata": {},
     "output_type": "execute_result"
    }
   ],
   "source": [
    "#checking for missing value\n",
    "table.count()"
   ]
  },
  {
   "cell_type": "markdown",
   "id": "4765552e-135e-46f8-8c2a-a1162d7ab485",
   "metadata": {},
   "source": [
    "Since we have generated the dataset ourself we won't have any missing or NaN values. We can proceed to feature selection."
   ]
  },
  {
   "cell_type": "code",
   "execution_count": 6,
   "id": "e0122055-6338-46a3-b391-472e87073512",
   "metadata": {},
   "outputs": [],
   "source": [
    "y = table['Result']\n",
    "X = table.drop(columns=['Patch_ID', 'Result', 'Post_Health_Score', 'Downtime_Mins'], axis=1)"
   ]
  },
  {
   "cell_type": "markdown",
   "id": "d726deee-3d6f-40f5-9bed-5def9eed16e6",
   "metadata": {},
   "source": [
    "Check the balance of the class:"
   ]
  },
  {
   "cell_type": "code",
   "execution_count": 7,
   "id": "e6c4ceda-37b5-4c11-a1b7-7186022aea7d",
   "metadata": {},
   "outputs": [
    {
     "data": {
      "text/plain": [
       "Result\n",
       "Safe     1326\n",
       "Risky     674\n",
       "Name: count, dtype: int64"
      ]
     },
     "execution_count": 7,
     "metadata": {},
     "output_type": "execute_result"
    }
   ],
   "source": [
    "y.value_counts()"
   ]
  },
  {
   "cell_type": "code",
   "execution_count": 8,
   "id": "61e52222-0061-4a60-8370-a7247493a030",
   "metadata": {},
   "outputs": [],
   "source": [
    "#mapping result values to their counterparts, since the models works on numerical data only\n",
    "y = y.map({'Safe':0, 'Risky':1})"
   ]
  },
  {
   "cell_type": "code",
   "execution_count": 9,
   "id": "a4a1323e-0fdb-480c-90eb-0f2cbef09e1a",
   "metadata": {},
   "outputs": [
    {
     "data": {
      "text/plain": [
       "Result\n",
       "False    2000\n",
       "Name: count, dtype: int64"
      ]
     },
     "execution_count": 9,
     "metadata": {},
     "output_type": "execute_result"
    }
   ],
   "source": [
    "y.isna().value_counts()"
   ]
  },
  {
   "cell_type": "markdown",
   "id": "1e9205be-74bf-4c3c-aae1-39424eb6b177",
   "metadata": {},
   "source": [
    "## Splitting the data into training and testing sets"
   ]
  },
  {
   "cell_type": "code",
   "execution_count": 10,
   "id": "43138682-3c87-42e7-ad13-1beeec56d736",
   "metadata": {},
   "outputs": [],
   "source": [
    "X_train, X_test, y_train, y_test = train_test_split(X, y, test_size=0.2, stratify=y, random_state=42)"
   ]
  },
  {
   "cell_type": "markdown",
   "id": "732db575-8577-4638-aec7-274f83671a5a",
   "metadata": {},
   "source": [
    "### Preprocessing transformers for numerical and categorical features\n",
    "##### This will automatically detect numerical and categorical columns and assign them to separate numeric and categorical features\n"
   ]
  },
  {
   "cell_type": "code",
   "execution_count": 11,
   "id": "23e7d61d-0986-4329-bf12-18e7dfdae7c1",
   "metadata": {},
   "outputs": [],
   "source": [
    "numerical_features = X_train.select_dtypes(include=['number']).columns.tolist()\n",
    "categorical_features = X_train.select_dtypes(include=['object','category']).columns.tolist()"
   ]
  },
  {
   "cell_type": "markdown",
   "id": "e9f7af4a-0aad-4c68-b540-94b1144f2801",
   "metadata": {},
   "source": [
    "We will define seperate pipelines for both types:"
   ]
  },
  {
   "cell_type": "code",
   "execution_count": 12,
   "id": "507531d8-ec0d-4b98-8880-d56ddc182e45",
   "metadata": {},
   "outputs": [],
   "source": [
    "numerical_transformer = Pipeline(steps=[\n",
    "    ('scaler', StandardScaler())\n",
    "])\n",
    "\n",
    "categorical_transformer = Pipeline(steps=[\n",
    "    ('onehot', OneHotEncoder(handle_unknown='ignore'))\n",
    "])"
   ]
  },
  {
   "cell_type": "markdown",
   "id": "0e6d554b-6c6c-4df7-9fb9-0cfb7743976e",
   "metadata": {},
   "source": [
    "### Combine both into column transformer"
   ]
  },
  {
   "cell_type": "code",
   "execution_count": 13,
   "id": "e90cfd70-7cd0-4c1a-9829-a2719e64f507",
   "metadata": {},
   "outputs": [],
   "source": [
    "preprocessor = ColumnTransformer(\n",
    "    transformers = [\n",
    "        ('num', numerical_transformer, numerical_features),\n",
    "        ('cat', categorical_transformer, categorical_features)\n",
    "    ]\n",
    ")"
   ]
  },
  {
   "cell_type": "markdown",
   "id": "79ff6b39-dd20-4dad-8d26-2f47c5920dc7",
   "metadata": {},
   "source": [
    "### Complete model pipeline"
   ]
  },
  {
   "cell_type": "code",
   "execution_count": 14,
   "id": "656d822e-67cb-4267-b984-2c49510bbf17",
   "metadata": {},
   "outputs": [],
   "source": [
    "pipeline = Pipeline(\n",
    "    steps=[\n",
    "        ('preprocessor', preprocessor),\n",
    "        ('classifier', RandomForestClassifier(class_weight='balanced', random_state=42))\n",
    "    ]\n",
    ")"
   ]
  },
  {
   "cell_type": "markdown",
   "id": "22d3f94d-0404-4845-9b03-0710f25110eb",
   "metadata": {},
   "source": [
    "## Optimisation\n",
    "We'll use the __grid in a cross validation search__ to optimize the model"
   ]
  },
  {
   "cell_type": "code",
   "execution_count": 15,
   "id": "62474a53-41cd-4b25-8293-eb6c4ebd7b84",
   "metadata": {},
   "outputs": [],
   "source": [
    "param_grid = {\n",
    "    'classifier__n_estimators': [50, 100],\n",
    "    'classifier__max_depth': [None, 10, 20],\n",
    "    'classifier__min_samples_split': [2, 5]\n",
    "}"
   ]
  },
  {
   "cell_type": "code",
   "execution_count": 16,
   "id": "88587a27-badb-4e55-83c4-e398c9e49928",
   "metadata": {},
   "outputs": [],
   "source": [
    "# Cross-validation method\n",
    "cv = StratifiedKFold(n_splits=5, shuffle=True)"
   ]
  },
  {
   "cell_type": "markdown",
   "id": "f5bdf616-7e7e-4267-a3fe-e608f3089b86",
   "metadata": {},
   "source": [
    "## Train the model"
   ]
  },
  {
   "cell_type": "markdown",
   "id": "73c9039d-422b-4aaf-99a3-a18b21f44c2f",
   "metadata": {},
   "source": [
    "Deciding which scoring metric to use:\n",
    "1. Prioritize Identifying 'Risky' Patches: Since missing a 'Risky' patch (a False Negative) is often more costly than flagging a 'Safe' patch as 'Risky' (a False Positive), the Recall for the 'Risky' class is often a key concern.\n",
    "\n",
    "2. Use F1-Score: If you want a single, balanced metric, set your scoring to:\n",
    "scoring='f1'\n",
    "\n",
    "3. Use ROC-AUC: If you want to evaluate the model's overall discriminative power, use:\n",
    "scoring='roc_auc'"
   ]
  },
  {
   "cell_type": "code",
   "execution_count": null,
   "id": "b920e6e4-08a6-467d-9172-511fe64a0547",
   "metadata": {},
   "outputs": [],
   "source": [
    "model = GridSearchCV(estimator=pipeline, cv=cv, param_grid=param_grid, verbose=2, scoring='recall')\n",
    "model.fit(X_train, y_train)"
   ]
  },
  {
   "cell_type": "markdown",
   "id": "d94f2e40-8c90-44f1-8c73-31a8091aa6d2",
   "metadata": {},
   "source": [
    "### Prediction on the unseen data and classification report"
   ]
  },
  {
   "cell_type": "code",
   "execution_count": 18,
   "id": "fc201438-6514-412b-bfba-f78f1a2dfa35",
   "metadata": {},
   "outputs": [
    {
     "name": "stdout",
     "output_type": "stream",
     "text": [
      "              precision    recall  f1-score   support\n",
      "\n",
      "           0       0.86      0.92      0.89       265\n",
      "           1       0.82      0.70      0.76       135\n",
      "\n",
      "    accuracy                           0.85       400\n",
      "   macro avg       0.84      0.81      0.82       400\n",
      "weighted avg       0.85      0.85      0.84       400\n",
      "\n"
     ]
    }
   ],
   "source": [
    "y_pred = model.predict(X_test)\n",
    "print(classification_report(y_test, y_pred))"
   ]
  },
  {
   "cell_type": "markdown",
   "id": "d3369569-01c3-4b38-9a19-b9903d1e1aeb",
   "metadata": {},
   "source": [
    "### Confusion matrix"
   ]
  },
  {
   "cell_type": "code",
   "execution_count": 19,
   "id": "253432f9-9c08-4b34-8ecf-46e1c110bf5d",
   "metadata": {},
   "outputs": [
    {
     "data": {
      "image/png": "[encoded data removed]",
      "text/plain": [
       "<Figure size 640x480 with 2 Axes>"
      ]
     },
     "metadata": {},
     "output_type": "display_data"
    }
   ],
   "source": [
    "conf_matrix = confusion_matrix(y_test, y_pred)\n",
    "\n",
    "plt.figure()\n",
    "sns.heatmap(conf_matrix, annot=True, cmap='Blues', fmt='d')\n",
    "\n",
    "# Set the title and labels\n",
    "plt.title('Patch Impact Classification Confusion Matrix')\n",
    "plt.xlabel('Predicted')\n",
    "plt.ylabel('Actual')\n",
    "\n",
    "# Show the plot\n",
    "plt.tight_layout()\n",
    "plt.show()"
   ]
  },
  {
   "cell_type": "markdown",
   "id": "b962e186-fc97-4e8b-8418-f06dc7479fc0",
   "metadata": {},
   "source": [
    "## Feature importances"
   ]
  },
  {
   "cell_type": "code",
   "execution_count": 20,
   "id": "dd5b84a8-d7b6-482a-b12c-c8d263c79fef",
   "metadata": {},
   "outputs": [
    {
     "data": {
      "text/plain": [
       "array(['OS_Type_RHEL', 'OS_Type_Ubuntu', 'OS_Type_Windows',\n",
       "       'Patch_Type_Bugfix', 'Patch_Type_Feature', 'Patch_Type_Kernel',\n",
       "       'Patch_Type_Security', 'Patch_Severity_Critical',\n",
       "       'Patch_Severity_High', 'Patch_Severity_Low',\n",
       "       'Patch_Severity_Medium', 'Server_Usage_High', 'Server_Usage_Low',\n",
       "       'Server_Usage_Medium', 'Applied_During_Peak_No',\n",
       "       'Applied_During_Peak_Yes'], dtype=object)"
      ]
     },
     "execution_count": 20,
     "metadata": {},
     "output_type": "execute_result"
    }
   ],
   "source": [
    "model.best_estimator_['preprocessor'].named_transformers_['cat'].named_steps['onehot'].get_feature_names_out(categorical_features)"
   ]
  },
  {
   "cell_type": "code",
   "execution_count": 21,
   "id": "08c69d27-8dd1-4d34-aa4c-d78844c85f21",
   "metadata": {},
   "outputs": [],
   "source": [
    "feature_importances = model.best_estimator_['classifier'].feature_importances_\n",
    "\n",
    "# Combine the numerical and one-hot encoded categorical feature names\n",
    "feature_names = numerical_features + list(model.best_estimator_['preprocessor']\n",
    "                                        .named_transformers_['cat']\n",
    "                                        .named_steps['onehot']\n",
    "                                        .get_feature_names_out(categorical_features))"
   ]
  },
  {
   "cell_type": "code",
   "execution_count": 22,
   "id": "dfdfa499-b729-4088-8340-77c466c4709c",
   "metadata": {},
   "outputs": [
    {
     "data": {
      "image/png": "[encoded data removed]",
      "text/plain": [
       "<Figure size 1000x600 with 1 Axes>"
      ]
     },
     "metadata": {},
     "output_type": "display_data"
    },
    {
     "name": "stdout",
     "output_type": "stream",
     "text": [
      "\n",
      "Test set accuracy: 69.63%\n"
     ]
    }
   ],
   "source": [
    "importance_df = pd.DataFrame({'Feature': feature_names,\n",
    "                              'Importance': feature_importances\n",
    "                             }).sort_values(by='Importance', ascending=False)\n",
    "\n",
    "# Plotting\n",
    "plt.figure(figsize=(10, 6))\n",
    "plt.barh(importance_df['Feature'], importance_df['Importance'], color='skyblue')\n",
    "plt.gca().invert_yaxis() \n",
    "plt.title('Most Important Features in predicting whether a passenger survived')\n",
    "plt.xlabel('Importance Score')\n",
    "plt.show()\n",
    "\n",
    "# Print test score \n",
    "test_score = model.score(X_test, y_test)\n",
    "print(f\"\\nTest set accuracy: {test_score:.2%}\")"
   ]
  },
  {
   "cell_type": "markdown",
   "id": "b7ea0745-dd10-4c1c-9f74-e5d1376c3e86",
   "metadata": {},
   "source": [
    "## Let's try Logistic Regression"
   ]
  },
  {
   "cell_type": "code",
   "execution_count": null,
   "id": "bcc28d2f-07cc-4380-9faa-6cfecc812a41",
   "metadata": {},
   "outputs": [],
   "source": [
    "# Replace RandomForestClassifier with LogisticRegression\n",
    "pipeline.set_params(classifier=LogisticRegression(random_state=42))\n",
    "\n",
    "# Update the model's estimator to use the new pipeline\n",
    "model.estimator = pipeline\n",
    "\n",
    "# Define a new grid with Logistic Regression parameters\n",
    "param_grid = {\n",
    "    # 'classifier__n_estimators': [50, 100],\n",
    "    # 'classifier__max_depth': [None, 10, 20],\n",
    "    # 'classifier__min_samples_split': [2, 5],\n",
    "    'classifier__solver' : ['liblinear'],\n",
    "    'classifier__penalty': ['l1', 'l2'],\n",
    "    'classifier__class_weight' : [None, 'balanced']\n",
    "}\n",
    "\n",
    "model.param_grid = param_grid\n",
    "\n",
    "# Fit the updated pipeline with Logistic Regression\n",
    "model.fit(X_train, y_train)\n",
    "\n",
    "# Make predictions\n",
    "y_pred = model.predict(X_test)\n"
   ]
  },
  {
   "cell_type": "code",
   "execution_count": 24,
   "id": "1c45453d-feae-46fa-9af2-17794ba0e24a",
   "metadata": {},
   "outputs": [
    {
     "name": "stdout",
     "output_type": "stream",
     "text": [
      "              precision    recall  f1-score   support\n",
      "\n",
      "           0       0.90      0.84      0.87       265\n",
      "           1       0.72      0.81      0.76       135\n",
      "\n",
      "    accuracy                           0.83       400\n",
      "   macro avg       0.81      0.82      0.81       400\n",
      "weighted avg       0.84      0.83      0.83       400\n",
      "\n"
     ]
    }
   ],
   "source": [
    "print(classification_report(y_test, y_pred))"
   ]
  },
  {
   "cell_type": "markdown",
   "id": "c9f3435a-940f-454d-a355-583f17c3efa5",
   "metadata": {},
   "source": [
    "After adding classweight='balanced', recall for (1) of Logistic regression is has improved a lot, but precision has decreased. We will try to increase recall because __cost of False Negative i.e., missed Risky Patch is High__ against __cost of False Positive i.e., False Alarm__. This reasoning is specific to our project. We will tune our threshold and find out which is giving good recall value. Result will be more true Risky patches will be flagged, but more safe patches will gets flagged too. This compromise is necessary for our model otherwise we will lose more risky patches which will increase not only our cost but also more server downtime."
   ]
  },
  {
   "cell_type": "markdown",
   "id": "4cbc3501-6e94-4de5-8911-96639ed58b3a",
   "metadata": {},
   "source": [
    "### Confusion Matrix"
   ]
  },
  {
   "cell_type": "code",
   "execution_count": 25,
   "id": "97b21c16-73ba-4789-a092-f2a765916eef",
   "metadata": {},
   "outputs": [
    {
     "data": {
      "image/png": "[encoded data removed]",
      "text/plain": [
       "<Figure size 640x480 with 2 Axes>"
      ]
     },
     "metadata": {},
     "output_type": "display_data"
    }
   ],
   "source": [
    "conf_matrix = confusion_matrix(y_test, y_pred)\n",
    "\n",
    "plt.figure()\n",
    "sns.heatmap(conf_matrix, annot=True, cmap='Blues', fmt='d')\n",
    "\n",
    "# Set the title and labels\n",
    "plt.title('Patch Impact Classification Confusion Matrix')\n",
    "plt.xlabel('Predicted')\n",
    "plt.ylabel('Actual')\n",
    "\n",
    "# Show the plot\n",
    "plt.tight_layout()\n",
    "plt.show()"
   ]
  },
  {
   "cell_type": "markdown",
   "id": "6c8cbf7c-88c5-41bc-a804-e839d5ebd77f",
   "metadata": {},
   "source": [
    "### Threshold Tuning"
   ]
  },
  {
   "cell_type": "code",
   "execution_count": 26,
   "id": "c891afc9-fef9-4e7e-a0ee-170560844482",
   "metadata": {},
   "outputs": [
    {
     "name": "stdout",
     "output_type": "stream",
     "text": [
      "\n",
      "--- Logistic Regression Threshold Tuning (Optimizing Risky Recall) ---\n",
      "Threshold Recall (Risky) Precision (Risky) Predicted Risky %\n",
      "     0.50          0.807             0.722             37.8%\n",
      "     0.45          0.815             0.659             41.8%\n",
      "     0.40          0.815             0.595             46.2%\n",
      "     0.35          0.822             0.552             50.2%\n",
      "     0.30          0.837             0.498             56.8%\n",
      "     0.25          0.867             0.468             62.5%\n",
      "     0.20          0.874             0.432             68.2%\n",
      "     0.15          0.889             0.395             76.0%\n"
     ]
    }
   ],
   "source": [
    "from sklearn.metrics import recall_score, precision_score\n",
    "# EXTRACTING THE BEST FITTED ESTIMATOR\n",
    "best_logreg_estimator = model.best_estimator_ \n",
    "\n",
    "# Set the positive label for metric calculation (Risky=1)\n",
    "# Since y_test is already 0/1, we set the target positive class to 1.\n",
    "POS_LABEL = 1 \n",
    "\n",
    "# GETTING PREDICTION PROBABILITIES\n",
    "# We are interested in the probability of the POSITIVE CLASS (Risky = 1)\n",
    "# .predict_proba() returns [P(class 0), P(class 1)]. We take column 1.\n",
    "y_pred_proba = best_logreg_estimator.predict_proba(X_test)[:, POS_LABEL]\n",
    "\n",
    "# DEFINING THRESHOLDS TO TEST\n",
    "# We test thresholds below 0.5 to increase recall for the 'Risky' class.\n",
    "thresholds_to_test = [0.50, 0.45, 0.40, 0.35, 0.30, 0.25, 0.20, 0.15]\n",
    "\n",
    "tuning_results = []\n",
    "print(\"\\n--- Logistic Regression Threshold Tuning (Optimizing Risky Recall) ---\")\n",
    "\n",
    "for t in thresholds_to_test:\n",
    "    # Classify patches: Predict 'Risky' (1) if probability >= t, else 'Safe' (0)\n",
    "    y_pred_t = (y_pred_proba >= t).astype(int)\n",
    "    \n",
    "    # Calculate metrics for the 'Risky' class\n",
    "    # zero_division=0 prevents warnings if no positive predictions are made\n",
    "    recall = recall_score(y_test, y_pred_t, pos_label=POS_LABEL, zero_division=0)\n",
    "    precision = precision_score(y_test, y_pred_t, pos_label=POS_LABEL, zero_division=0)\n",
    "    \n",
    "    # Calculate the percentage of patches that get flagged as 'Risky'\n",
    "    perc_risky_pred = np.mean(y_pred_t)\n",
    "    \n",
    "    tuning_results.append({\n",
    "        'Threshold': f\"{t:.2f}\",\n",
    "        'Recall (Risky)': f\"{recall:.3f}\",\n",
    "        'Precision (Risky)': f\"{precision:.3f}\",\n",
    "        'Predicted Risky %': f\"{perc_risky_pred*100:.1f}%\"\n",
    "    })\n",
    "\n",
    "# Print the final analysis table\n",
    "results_df = pd.DataFrame(tuning_results)\n",
    "print(results_df.to_string(index=False))"
   ]
  },
  {
   "cell_type": "markdown",
   "id": "6c5dfc46-b3b9-474d-b42c-045d29823f04",
   "metadata": {},
   "source": [
    "#### Few Important Points:\n",
    "While recall increased, precision took a major hit. Few points to note here:\n",
    "1. 0.50 Threshold: Recall of 80% (we miss 20% of risky patches).\n",
    "\n",
    "2. 0.15 Threshold: Recall of 88.9% (we miss ∼11% of risky patches), BUT Precision drops to 39.5%, which feels very significant. Even the 1% recall is bringing down precision by 10%."
   ]
  },
  {
   "cell_type": "markdown",
   "id": "978de748-4a17-4e6e-8d54-cd00ca87cc78",
   "metadata": {},
   "source": [
    "__Let us try different model now. XGBoost might be a good call since they are good in capturing complex, non-linear feature interactions.__"
   ]
  },
  {
   "cell_type": "markdown",
   "id": "05096002-1595-4442-8cd0-0b516bbb755b",
   "metadata": {},
   "source": [
    "## XGBoost Model"
   ]
  },
  {
   "cell_type": "code",
   "execution_count": null,
   "id": "f4585709-572f-4c73-bb16-8c91b0e7679e",
   "metadata": {},
   "outputs": [],
   "source": [
    "from xgboost import XGBClassifier\n",
    "\n",
    "# Calculating the imbalance weight (assuming y_train is available)\n",
    "safe_count = y_train.value_counts()[0] \n",
    "risky_count = y_train.value_counts()[1]\n",
    "imbalance_weight = safe_count / risky_count\n",
    "\n",
    "# Replacing the current classifier with XGBoost\n",
    "# Use the calculated imbalance_weight to bias the model towards the minority class (Risky)\n",
    "pipeline.set_params(classifier=XGBClassifier(\n",
    "    random_state=42, \n",
    "    eval_metric='logloss',\n",
    "    # IMPORTANT: This directly targets imbalance better than class_weight='balanced'\n",
    "    scale_pos_weight=imbalance_weight \n",
    "))\n",
    "\n",
    "# Update the model's estimator to use the new pipeline\n",
    "model.estimator = pipeline\n",
    "\n",
    "# Define a new, targeted grid for XGBoost (simplified for quick testing)\n",
    "param_grid = {\n",
    "    # Test different complexity/depths\n",
    "    'classifier__max_depth': [3, 5, 7],\n",
    "    # Test different learning rates (how fast the model learns)\n",
    "    'classifier__learning_rate': [0.01, 0.1], \n",
    "    # Test different regularization (to prevent overfitting)\n",
    "    'classifier__lambda': [1, 10]\n",
    "}\n",
    "\n",
    "model.param_grid = param_grid\n",
    "\n",
    "# Fit the updated pipeline with XGBoost\n",
    "print(\"Fitting XGBoost model...\")\n",
    "model.fit(X_train, y_train)\n",
    "print(\"XGBoost fit complete.\")"
   ]
  },
  {
   "cell_type": "code",
   "execution_count": 28,
   "id": "345c35fe-3d2f-44d4-9b3a-2df442271bf9",
   "metadata": {},
   "outputs": [
    {
     "name": "stdout",
     "output_type": "stream",
     "text": [
      "              precision    recall  f1-score   support\n",
      "\n",
      "           0       0.90      0.84      0.87       265\n",
      "           1       0.72      0.81      0.76       135\n",
      "\n",
      "    accuracy                           0.83       400\n",
      "   macro avg       0.81      0.82      0.81       400\n",
      "weighted avg       0.84      0.83      0.83       400\n",
      "\n"
     ]
    }
   ],
   "source": [
    "print(classification_report(y_test, y_pred))"
   ]
  },
  {
   "cell_type": "markdown",
   "id": "9a4b5679-7b30-4c6c-9330-ea4e2b7e0505",
   "metadata": {},
   "source": [
    "### Confusion Matrix"
   ]
  },
  {
   "cell_type": "code",
   "execution_count": 29,
   "id": "3c92bbaa-0819-46a0-a4c1-a20b43692ce0",
   "metadata": {},
   "outputs": [
    {
     "data": {
      "image/png": "[encoded data removed]",
      "text/plain": [
       "<Figure size 640x480 with 2 Axes>"
      ]
     },
     "metadata": {},
     "output_type": "display_data"
    }
   ],
   "source": [
    "conf_matrix = confusion_matrix(y_test, y_pred)\n",
    "\n",
    "plt.figure()\n",
    "sns.heatmap(conf_matrix, annot=True, cmap='Blues', fmt='d')\n",
    "\n",
    "# Set the title and labels\n",
    "plt.title('Patch Impact Classification Confusion Matrix')\n",
    "plt.xlabel('Predicted')\n",
    "plt.ylabel('Actual')\n",
    "\n",
    "# Show the plot\n",
    "plt.tight_layout()\n",
    "plt.show()"
   ]
  },
  {
   "cell_type": "markdown",
   "id": "cc18f23b-1281-440f-8af4-2acbc2abaf7a",
   "metadata": {},
   "source": [
    "### Threshold Tuning for XGBoost"
   ]
  },
  {
   "cell_type": "code",
   "execution_count": 30,
   "id": "f4e59922-b5fc-486e-a2c1-9eaa4234fb05",
   "metadata": {},
   "outputs": [
    {
     "name": "stdout",
     "output_type": "stream",
     "text": [
      "\n",
      "--- XGBoost Threshold Tuning (Optimizing Risky Recall) ---\n",
      "Threshold Recall (Risky) Precision (Risky) Predicted Risky %\n",
      "     0.50          0.770             0.712             36.5%\n",
      "     0.45          0.793             0.669             40.0%\n",
      "     0.40          0.807             0.602             45.2%\n",
      "     0.35          0.815             0.542             50.7%\n",
      "     0.30          0.852             0.500             57.5%\n",
      "     0.25          0.867             0.461             63.5%\n",
      "     0.20          0.896             0.420             72.0%\n",
      "     0.15          0.926             0.386             81.0%\n"
     ]
    }
   ],
   "source": [
    "best_xgb_estimator = model.best_estimator_ \n",
    "POS_LABEL = 1 \n",
    "y_pred_proba = best_xgb_estimator.predict_proba(X_test)[:, POS_LABEL]\n",
    "\n",
    "# Testing a wider range of thresholds now\n",
    "thresholds_to_test = [0.50, 0.45, 0.40, 0.35, 0.30, 0.25, 0.20, 0.15]\n",
    "\n",
    "tuning_results = []\n",
    "print(\"\\n--- XGBoost Threshold Tuning (Optimizing Risky Recall) ---\")\n",
    "\n",
    "for t in thresholds_to_test:\n",
    "    y_pred_t = (y_pred_proba >= t).astype(int)\n",
    "    \n",
    "    recall = recall_score(y_test, y_pred_t, pos_label=POS_LABEL, zero_division=0)\n",
    "    precision = precision_score(y_test, y_pred_t, pos_label=POS_LABEL, zero_division=0)\n",
    "    perc_risky_pred = np.mean(y_pred_t)\n",
    "    \n",
    "    tuning_results.append({\n",
    "        'Threshold': f\"{t:.2f}\",\n",
    "        'Recall (Risky)': f\"{recall:.3f}\",\n",
    "        'Precision (Risky)': f\"{precision:.3f}\",\n",
    "        'Predicted Risky %': f\"{perc_risky_pred*100:.1f}%\"\n",
    "    })\n",
    "\n",
    "results_df = pd.DataFrame(tuning_results)\n",
    "print(results_df.to_string(index=False))"
   ]
  },
  {
   "cell_type": "markdown",
   "id": "0911111a-25a0-48e9-b85b-7649742c4dbe",
   "metadata": {},
   "source": [
    "## Conclusion\n",
    "\n",
    "XGBoost is performing slightly better than Logistic Regression in terms of maintaining precision at higher recall points. __The fundamental issue is not the model, but the quality and clarity of the original data.__"
   ]
  },
  {
   "cell_type": "markdown",
   "id": "4bfd863c-aa0e-4dd7-a384-b6c0123f1b7f",
   "metadata": {},
   "source": [
    "The initial data leakage was resolved by defining the 'Result' based purely on Pre-Patch features and complex interactions. This allowed all models to learn a robust pattern, with Logistic Regression and XGBoost showing the most effective performance for the critical 'Risky' class.\n",
    "\n",
    "__Final Model Selection:__ We choose the XGBoost Classifier due to its superior performance curve in balancing Recall and Precision.\n",
    "\n",
    "__Optimal Operational Threshold:__ Based on the high cost of a False Negative (server outage) in a patch management environment, we prioritize Recall over Precision.\n",
    "\n",
    "|Selected Threshold|Risky Recall|Risky Precision|Outcome|\n",
    "|------------------|------------|---------------|-------|\n",
    "|0.30|85.2%|50.0%|Optimal balance: Catches 85% of all risks with a 50% false alarm rate.|\n",
    "\n",
    "This decision means we accept a 50% false positive rate (unnecessary manual checks) to minimize the chance of missing a critical patch failure to less than 15%."
   ]
  },
  {
   "cell_type": "markdown",
   "id": "ac93cc94-5f2a-4c54-8a85-419d7ad3a0ff",
   "metadata": {},
   "source": [
    "## Final Prediction Code"
   ]
  },
  {
   "cell_type": "code",
   "execution_count": 31,
   "id": "c3b1a2e7-29c2-41c3-9986-e7c716f5b5c9",
   "metadata": {},
   "outputs": [
    {
     "name": "stdout",
     "output_type": "stream",
     "text": [
      "--- Final Classification Report at Threshold T=0.3 ---\n",
      "              precision    recall  f1-score   support\n",
      "\n",
      "    Safe (0)       0.88      0.57      0.69       265\n",
      "   Risky (1)       0.50      0.85      0.63       135\n",
      "\n",
      "    accuracy                           0.66       400\n",
      "   macro avg       0.69      0.71      0.66       400\n",
      "weighted avg       0.75      0.66      0.67       400\n",
      "\n"
     ]
    }
   ],
   "source": [
    "from sklearn.metrics import classification_report\n",
    "\n",
    "# Retrieving the best XGBoost estimator from our fitting process\n",
    "# (Assuming our best model is stored here after the grid search)\n",
    "best_xgb_estimator = model.best_estimator_ \n",
    "\n",
    "# Predicting probabilities for the test set (P(Risky) is index 1)\n",
    "y_pred_proba = best_xgb_estimator.predict_proba(X_test)[:, 1]\n",
    "\n",
    "# Defining the optimal operational threshold\n",
    "OPERATIONAL_THRESHOLD = 0.30 \n",
    "\n",
    "# Generating the final predictions based on the custom threshold\n",
    "y_final_prediction = (y_pred_proba >= OPERATIONAL_THRESHOLD).astype(int)\n",
    "\n",
    "print(f\"--- Final Classification Report at Threshold T={OPERATIONAL_THRESHOLD} ---\")\n",
    "print(classification_report(y_test, y_final_prediction, target_names=['Safe (0)', 'Risky (1)']))"
   ]
  }
 ],
 "metadata": {
  "kernelspec": {
   "display_name": "Python 3 (ipykernel)",
   "language": "python",
   "name": "python3"
  },
  "language_info": {
   "codemirror_mode": {
    "name": "ipython",
    "version": 3
   },
   "file_extension": ".py",
   "mimetype": "text/x-python",
   "name": "python",
   "nbconvert_exporter": "python",
   "pygments_lexer": "ipython3",
   "version": "3.12.2"
  }
 },
 "nbformat": 4,
 "nbformat_minor": 5
}
